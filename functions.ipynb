{
  "nbformat": 4,
  "nbformat_minor": 0,
  "metadata": {
    "colab": {
      "provenance": [],
      "authorship_tag": "ABX9TyP8pOQwUsyzY3dVgokqvtwy",
      "include_colab_link": true
    },
    "kernelspec": {
      "name": "python3",
      "display_name": "Python 3"
    },
    "language_info": {
      "name": "python"
    }
  },
  "cells": [
    {
      "cell_type": "markdown",
      "metadata": {
        "id": "view-in-github",
        "colab_type": "text"
      },
      "source": [
        "<a href=\"https://colab.research.google.com/github/JTorres258/functions-from-zero/blob/main/functions.ipynb\" target=\"_parent\"><img src=\"https://colab.research.google.com/assets/colab-badge.svg\" alt=\"Open In Colab\"/></a>"
      ]
    },
    {
      "cell_type": "markdown",
      "source": [
        "### Style of Functions\n"
      ],
      "metadata": {
        "id": "KzrfQecBVT1b"
      }
    },
    {
      "cell_type": "code",
      "execution_count": 2,
      "metadata": {
        "id": "Gq6HF_NdVMhO"
      },
      "outputs": [],
      "source": [
        "def simple(): pass"
      ]
    },
    {
      "cell_type": "code",
      "source": [
        "def simple2():\n",
        "  print(\"simple\")"
      ],
      "metadata": {
        "id": "HfvG0at9Vx_m"
      },
      "execution_count": 3,
      "outputs": []
    },
    {
      "cell_type": "code",
      "source": [
        "simple2()"
      ],
      "metadata": {
        "colab": {
          "base_uri": "https://localhost:8080/"
        },
        "id": "DOQZE3fuV5kY",
        "outputId": "32bc956d-9eef-4285-e8d0-d5ec79743218"
      },
      "execution_count": 4,
      "outputs": [
        {
          "output_type": "stream",
          "name": "stdout",
          "text": [
            "simple\n"
          ]
        }
      ]
    },
    {
      "cell_type": "markdown",
      "source": [
        "### Most useful"
      ],
      "metadata": {
        "id": "QAVsXLRuVjfD"
      }
    },
    {
      "cell_type": "code",
      "source": [
        "def my_worker(fruit):\n",
        "  statement = f\"My favorite meal is chicken with {fruit}\"\n",
        "  meals = {\"dinner\": statement}\n",
        "  return meals"
      ],
      "metadata": {
        "id": "QWTVI9G1V75y"
      },
      "execution_count": 8,
      "outputs": []
    },
    {
      "cell_type": "code",
      "source": [
        "meal = my_worker(\"Apple\")"
      ],
      "metadata": {
        "id": "G3yKFKMsWJJa"
      },
      "execution_count": 9,
      "outputs": []
    },
    {
      "cell_type": "code",
      "source": [
        "type(meal)"
      ],
      "metadata": {
        "colab": {
          "base_uri": "https://localhost:8080/"
        },
        "id": "Qf4KtQGSWMZo",
        "outputId": "cad6b821-31cd-4faa-ce95-bc925fa086eb"
      },
      "execution_count": 10,
      "outputs": [
        {
          "output_type": "execute_result",
          "data": {
            "text/plain": [
              "dict"
            ]
          },
          "metadata": {},
          "execution_count": 10
        }
      ]
    },
    {
      "cell_type": "code",
      "source": [
        "meal"
      ],
      "metadata": {
        "colab": {
          "base_uri": "https://localhost:8080/"
        },
        "id": "bgG6NWIqWQFl",
        "outputId": "1f283a9f-9d5f-4b09-d072-c4f92fb9fd10"
      },
      "execution_count": 11,
      "outputs": [
        {
          "output_type": "execute_result",
          "data": {
            "text/plain": [
              "{'dinner': 'My favorite meal is chicken with Apple'}"
            ]
          },
          "metadata": {},
          "execution_count": 11
        }
      ]
    },
    {
      "cell_type": "code",
      "source": [
        "def human(food):\n",
        "  consume = food[\"dinner\"]\n",
        "  return consume"
      ],
      "metadata": {
        "id": "tM3MnBYoWRME"
      },
      "execution_count": 12,
      "outputs": []
    },
    {
      "cell_type": "code",
      "source": [
        "my_meal = human(meal)\n",
        "print(f\"I want my meal. It will be {my_meal}\")"
      ],
      "metadata": {
        "colab": {
          "base_uri": "https://localhost:8080/"
        },
        "id": "DFo5mco-WXB2",
        "outputId": "5150154e-c3d0-4705-a6ef-a124551d5eb1"
      },
      "execution_count": 13,
      "outputs": [
        {
          "output_type": "stream",
          "name": "stdout",
          "text": [
            "I want my meal. It will be My favorite meal is chicken with Apple\n"
          ]
        }
      ]
    },
    {
      "cell_type": "code",
      "source": [],
      "metadata": {
        "id": "7EP8sw4MWeF6"
      },
      "execution_count": null,
      "outputs": []
    }
  ]
}